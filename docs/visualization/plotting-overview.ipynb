{
 "cells": [
  {
   "cell_type": "markdown",
   "metadata": {},
   "source": [
    "# Plotting Overview\n",
    "\n",
    "## Getting started\n",
    "\n",
    "`scipp` offers a number of different ways to plot data from a `DataArray` or a `Dataset`.\n",
    "It uses the `matplotlib` graphing library to do so, as well as the `ipyvolume` project for 3D visualizations."
   ]
  },
  {
   "cell_type": "code",
   "execution_count": null,
   "metadata": {},
   "outputs": [],
   "source": [
    "import numpy as np\n",
    "import scipp as sc"
   ]
  },
  {
   "cell_type": "code",
   "execution_count": null,
   "metadata": {},
   "outputs": [],
   "source": [
    "N = 20\n",
    "M = 5\n",
    "d = sc.Dataset()\n",
    "d.coords['x'] = sc.Variable(['x'], values=np.arange(M), unit=sc.units.m)\n",
    "d.coords['y'] = sc.Variable(['y'], values=np.arange(N), unit=sc.units.us)\n",
    "\n",
    "d['data'] = sc.Variable(['y'],\n",
    "                        values=100*np.random.rand(N)+50,\n",
    "                        unit=sc.units.counts)\n",
    "d['data_with_errors'] = sc.Variable(['y'],\n",
    "                                    values=50*np.random.rand(N),\n",
    "                                    variances=50*np.random.rand(N),\n",
    "                                    unit=sc.units.counts)\n",
    "\n",
    "d['data_2d'] = sc.Variable(['x', 'y'],\n",
    "                           values=10.0*np.random.rand(M, N),\n",
    "                           unit=sc.units.K)"
   ]
  },
  {
   "cell_type": "code",
   "execution_count": null,
   "metadata": {},
   "outputs": [],
   "source": [
    "d['data'].data.dims"
   ]
  },
  {
   "cell_type": "markdown",
   "metadata": {},
   "source": [
    "Plotting functionality is available in the `scipp.plot` module, with the `plot` function.\n",
    "The information in a data array or dataset is typically enough to create meaningful plots:"
   ]
  },
  {
   "cell_type": "code",
   "execution_count": null,
   "metadata": {
    "scrolled": false
   },
   "outputs": [],
   "source": [
    "from scipp.plot import plot\n",
    "\n",
    "plot(d)"
   ]
  },
  {
   "cell_type": "markdown",
   "metadata": {},
   "source": [
    "## Plotting slices or items of a dataset\n",
    "\n",
    "The usual indexing and slicing can be used to create plots of slices of data, or plots of individual items from a dataset.\n",
    "\n",
    "### Plot a single entry of a dataset"
   ]
  },
  {
   "cell_type": "code",
   "execution_count": null,
   "metadata": {},
   "outputs": [],
   "source": [
    "plot(d['data'])"
   ]
  },
  {
   "cell_type": "markdown",
   "metadata": {},
   "source": [
    "### Plot a slice range"
   ]
  },
  {
   "cell_type": "code",
   "execution_count": null,
   "metadata": {},
   "outputs": [],
   "source": [
    "plot(d['y', 4:7])"
   ]
  },
  {
   "cell_type": "markdown",
   "metadata": {},
   "source": [
    "### Plot a 1-D slice of 2-D data\n",
    "\n",
    "When slicing without a range, the dimensionality reduces.\n",
    "This can be used to, e.g., plot a 1-D slice through 2-D data:"
   ]
  },
  {
   "cell_type": "code",
   "execution_count": null,
   "metadata": {},
   "outputs": [],
   "source": [
    "plot(d['x', 4])"
   ]
  },
  {
   "cell_type": "markdown",
   "metadata": {},
   "source": [
    "## Logarithmic scale\n",
    "\n",
    "1-D data can be plotted on a logarithmic scale on one or both axes:"
   ]
  },
  {
   "cell_type": "code",
   "execution_count": null,
   "metadata": {
    "scrolled": false
   },
   "outputs": [],
   "source": [
    "plot(d, logx=True)\n",
    "plot(d, logy=True)\n",
    "plot(d, logxy=True)"
   ]
  },
  {
   "cell_type": "markdown",
   "metadata": {},
   "source": [
    "## Axis labels and axis order\n",
    "\n",
    "By default scipp uses coordinate values to label the axes.\n",
    "If a data array or dataset contains auxiliary coordinates (accessed using the `labels` property), these can be used instead.\n",
    "This is configured using the `axes` keyword argument of `plot`.\n",
    "It accepts a list of dimension labels and names.\n",
    "The former refers to coordinates, while the latter refers to labels.\n",
    "The order in the list also defines the axis order for multi-dimensional plots:"
   ]
  },
  {
   "cell_type": "code",
   "execution_count": null,
   "metadata": {},
   "outputs": [],
   "source": [
    "d.labels['xlabels'] = sc.Variable(['x'], values=np.arange(M))\n",
    "plot(d['data_2d'], axes=['y', 'xlabels'])"
   ]
  },
  {
   "cell_type": "markdown",
   "metadata": {},
   "source": [
    "## Sparse data\n",
    "\n",
    "By default, sparse data is plotted as a scatter plot.\n",
    "In many cases, on-the-fly histogramming is more useful.\n",
    "This can be configured using the `bins` keyword argument:"
   ]
  },
  {
   "cell_type": "code",
   "execution_count": null,
   "metadata": {},
   "outputs": [],
   "source": [
    "N = 50\n",
    "M = 10\n",
    "var = sc.Variable(dims=['x', 'tof'],\n",
    "                  shape=[M, sc.Dimensions.Sparse],\n",
    "                  unit=sc.units.us)\n",
    "for i in range(M):\n",
    "    v = np.random.normal(50.0, scale=20.0, size=int(np.random.rand()*N))\n",
    "    var['x', i].values = v\n",
    "\n",
    "d = sc.Dataset()\n",
    "d.coords['x'] = sc.Variable(['x'], values=np.arange(M), unit=sc.units.m)\n",
    "d['a'] = sc.DataArray(coords={'tof': var})"
   ]
  },
  {
   "cell_type": "markdown",
   "metadata": {},
   "source": [
    "If a number is given, uniform bins over the entire data range are used:"
   ]
  },
  {
   "cell_type": "code",
   "execution_count": null,
   "metadata": {},
   "outputs": [],
   "source": [
    "plot(d, bins=50)"
   ]
  },
  {
   "cell_type": "markdown",
   "metadata": {},
   "source": [
    "Alternatively, an array of bin edges can be specified:"
   ]
  },
  {
   "cell_type": "code",
   "execution_count": null,
   "metadata": {},
   "outputs": [],
   "source": [
    "plot(d, bins=np.linspace(20, 80, num=20))"
   ]
  }
 ],
 "metadata": {
  "kernelspec": {
   "display_name": "Python 3",
   "language": "python",
   "name": "python3"
  },
  "language_info": {
   "codemirror_mode": {
    "name": "ipython",
    "version": 3
   },
   "file_extension": ".py",
   "mimetype": "text/x-python",
   "name": "python",
   "nbconvert_exporter": "python",
   "pygments_lexer": "ipython3",
   "version": "3.7.4"
  }
 },
 "nbformat": 4,
 "nbformat_minor": 2
}
