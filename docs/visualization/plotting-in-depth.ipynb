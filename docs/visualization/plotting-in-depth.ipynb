{
 "cells": [
  {
   "cell_type": "markdown",
   "metadata": {},
   "source": [
    "# Advanced plotting\n",
    "`scipp` offers a number of different ways to plot data from a `DataArray` or a `Dataset`. It uses the `matplotlib` graphing library to do so, as well as the `ipyvolume` project for 3D visualizations."
   ]
  },
  {
   "cell_type": "code",
   "execution_count": null,
   "metadata": {},
   "outputs": [],
   "source": [
    "import numpy as np\n",
    "import scipp as sc\n",
    "from scipp.plot import plot\n",
    "import matplotlib as plt\n",
    "plt.rcParams.update({'figure.max_open_warning': 0})"
   ]
  },
  {
   "cell_type": "markdown",
   "metadata": {},
   "source": [
    "## Plotting 1-D data\n",
    "\n",
    "### Basic plot\n",
    "\n",
    "Plotting is done using the `plot` (or `scipp.plot.plot`) function.\n",
    "Generally the information in a dataset is sufficient to produce a useful plot out of the box.\n",
    "\n",
    "For example, a simple plot from a 1D dataset is produced as follows:"
   ]
  },
  {
   "cell_type": "code",
   "execution_count": null,
   "metadata": {},
   "outputs": [],
   "source": [
    "d = sc.Dataset()\n",
    "N = 50\n",
    "d.coords['tof'] = sc.Variable(['tof'], values=np.arange(N).astype(np.float64),\n",
    "                                unit=sc.units.us)\n",
    "d['Sample'] = sc.Variable(['tof'], values=10.0*np.random.rand(N),\n",
    "                          unit=sc.units.counts)\n",
    "plot(d)"
   ]
  },
  {
   "cell_type": "markdown",
   "metadata": {},
   "source": [
    "### With error bars\n",
    "\n",
    "Error bars are shown automatically if variances are present in the data:"
   ]
  },
  {
   "cell_type": "code",
   "execution_count": null,
   "metadata": {},
   "outputs": [],
   "source": [
    "d['Sample'].variances = np.square(np.random.rand(N))\n",
    "plot(d)"
   ]
  },
  {
   "cell_type": "markdown",
   "metadata": {},
   "source": [
    "Note that the length of the errors bars is the standard-deviation, i.e., the square root of the variances stored in the data.\n",
    "\n",
    "### Multiple variables on the same axes\n",
    "\n",
    "If a dataset contains more than one 1D variable with the same coordinates, they are plotted on the same axes:"
   ]
  },
  {
   "cell_type": "code",
   "execution_count": null,
   "metadata": {},
   "outputs": [],
   "source": [
    "d['Background'] = sc.Variable(['tof'], values=5.0*np.random.rand(N),\n",
    "                              unit=sc.units.counts)\n",
    "plot(d)"
   ]
  },
  {
   "cell_type": "markdown",
   "metadata": {},
   "source": [
    "It is possible to hide the error bars with"
   ]
  },
  {
   "cell_type": "code",
   "execution_count": null,
   "metadata": {},
   "outputs": [],
   "source": [
    "plot(d, variances=False)\n",
    "plot(d, variances={\"Sample\": False})"
   ]
  },
  {
   "cell_type": "markdown",
   "metadata": {},
   "source": [
    "We can always plot just a single item of the dataset:"
   ]
  },
  {
   "cell_type": "code",
   "execution_count": null,
   "metadata": {},
   "outputs": [],
   "source": [
    "plot(d['Background'])"
   ]
  },
  {
   "cell_type": "markdown",
   "metadata": {},
   "source": [
    "### Customizing linestyles, markers and colors\n",
    "\n",
    "Linestyles can be customized following the Matplotlib API.\n",
    "For instance, it is possible to connect the dots by setting `linestyle='solid'`:"
   ]
  },
  {
   "cell_type": "code",
   "execution_count": null,
   "metadata": {},
   "outputs": [],
   "source": [
    "plot(d, linestyle='solid')"
   ]
  },
  {
   "cell_type": "markdown",
   "metadata": {},
   "source": [
    "Marker colors and symbols can be changed via the `color` and `marker` keyword arguments:"
   ]
  },
  {
   "cell_type": "code",
   "execution_count": null,
   "metadata": {},
   "outputs": [],
   "source": [
    "plot(d, color=['red', '#30D5F9'], marker=['s', 'x'])"
   ]
  },
  {
   "cell_type": "markdown",
   "metadata": {},
   "source": [
    "The supplied `color` and `marker` arguments can also be a list of integers, which correspond to one of the pre-defined [colors](https://matplotlib.org/3.1.1/users/dflt_style_changes.html) or [markers](https://matplotlib.org/3.1.1/api/markers_api.html) (which were taken from matplotlib):"
   ]
  },
  {
   "cell_type": "code",
   "execution_count": null,
   "metadata": {},
   "outputs": [],
   "source": [
    "plot(d, color=[6, 8])"
   ]
  },
  {
   "cell_type": "markdown",
   "metadata": {},
   "source": [
    "### Logarithmic scales\n",
    "\n",
    "Logarithmic axes are supported as follows:"
   ]
  },
  {
   "cell_type": "code",
   "execution_count": null,
   "metadata": {
    "scrolled": false
   },
   "outputs": [],
   "source": [
    "plot(d, logx=True)\n",
    "plot(d, logy=True)\n",
    "plot(d, logxy=True)"
   ]
  },
  {
   "cell_type": "markdown",
   "metadata": {},
   "source": [
    "### Histograms\n",
    "Histograms are automatically generated if the coordinate is bin edges:"
   ]
  },
  {
   "cell_type": "code",
   "execution_count": null,
   "metadata": {},
   "outputs": [],
   "source": [
    "d['Histogram'] = sc.Variable(['tof'], values=20.0*np.random.rand(N-1),\n",
    "                             unit=sc.units.counts)\n",
    "plot(d['Histogram'])"
   ]
  },
  {
   "cell_type": "markdown",
   "metadata": {},
   "source": [
    "and with error bars"
   ]
  },
  {
   "cell_type": "code",
   "execution_count": null,
   "metadata": {},
   "outputs": [],
   "source": [
    "d['Histogram'].variances = 5.0*np.random.rand(N-1)\n",
    "plot(d['Histogram'])"
   ]
  },
  {
   "cell_type": "markdown",
   "metadata": {},
   "source": [
    "The histogram color can be customized:"
   ]
  },
  {
   "cell_type": "code",
   "execution_count": null,
   "metadata": {},
   "outputs": [],
   "source": [
    "plot(d['Histogram'], color=\"#000000\")"
   ]
  },
  {
   "cell_type": "markdown",
   "metadata": {},
   "source": [
    "### Multiple 1D variables with different dimensions\n",
    "\n",
    "`scipp.plot` also supports multiple 1-D variables with different dimensions (note that the data entries are grouped onto the same graph if they have the same dimension and unit):"
   ]
  },
  {
   "cell_type": "code",
   "execution_count": null,
   "metadata": {
    "scrolled": false
   },
   "outputs": [],
   "source": [
    "M = 60\n",
    "d.coords['x'] = sc.Variable(['x'],\n",
    "                              values=np.arange(M).astype(np.float64),\n",
    "                              unit=sc.units.m)\n",
    "d['OtherSample'] = sc.Variable(['x'], values=10.0*np.random.rand(M),\n",
    "                                   unit=sc.units.s)\n",
    "d['OtherNoise'] = sc.Variable(['x'], values=7.0*np.random.rand(M-1),\n",
    "                                  variances=3.0*np.random.rand(M-1),\n",
    "                                  unit=sc.units.s)\n",
    "d['SomeKgs'] = sc.Variable(['x'], values=20.0*np.random.rand(M),\n",
    "                                   unit=sc.units.kg)\n",
    "plot(d)"
   ]
  },
  {
   "cell_type": "markdown",
   "metadata": {},
   "source": [
    "### Custom labels along x axis\n",
    "\n",
    "Sometimes one wishes to have `labels` along the X axis instead of the coordinate. This can be achieved via the `axes` keyword argument:"
   ]
  },
  {
   "cell_type": "code",
   "execution_count": null,
   "metadata": {},
   "outputs": [],
   "source": [
    "d1 = sc.Dataset()\n",
    "N = 100\n",
    "d1.coords['tof'] = sc.Variable(['tof'],\n",
    "                                 values=np.arange(N).astype(np.float64),\n",
    "                                 unit=sc.units.us)\n",
    "d1[\"Sample\"] = sc.Variable(['tof'],\n",
    "                           values=10.0 * np.random.rand(N),\n",
    "                           unit=sc.units.counts)\n",
    "d1.labels[\"somelabels\"] = sc.Variable(['tof'],\n",
    "                                      values=np.linspace(101., 105., N),\n",
    "                                      unit=sc.units.s)\n",
    "plot(d1, axes=[\"somelabels\"])"
   ]
  },
  {
   "cell_type": "markdown",
   "metadata": {},
   "source": [
    "If one has multiple entries in a `Dataset`, the labels corresponding to each dimension need to be specified in a dictionary-like fashion:"
   ]
  },
  {
   "cell_type": "code",
   "execution_count": null,
   "metadata": {},
   "outputs": [],
   "source": [
    "M = 50\n",
    "d1.coords['x'] = sc.Variable(['x'],\n",
    "                                  values=np.arange(M).astype(np.float64),\n",
    "                                  unit=sc.units.m)\n",
    "d1[\"Sample2\"] = sc.Variable(['x'],\n",
    "                            values=10.0 * np.random.rand(M),\n",
    "                            unit=sc.units.counts)\n",
    "d1.labels[\"Xlabels\"] = sc.Variable(['x'],\n",
    "                                   values=np.linspace(151., 155., M),\n",
    "                                   unit=sc.units.s)\n",
    "plot(d1, axes={'x': \"Xlabels\", 'tof': \"somelabels\"})"
   ]
  },
  {
   "cell_type": "markdown",
   "metadata": {},
   "source": [
    "## Plotting 2-D data\n",
    "\n",
    "### 2-D data as an image\n",
    "\n",
    "2-D variables are plotted as images, with a colormap:"
   ]
  },
  {
   "cell_type": "code",
   "execution_count": null,
   "metadata": {},
   "outputs": [],
   "source": [
    "N = 100\n",
    "M = 50\n",
    "xx = np.arange(N, dtype=np.float64)\n",
    "yy = np.arange(M, dtype=np.float64)\n",
    "x, y = np.meshgrid(xx, yy)\n",
    "b = N/20.0\n",
    "c = M/2.0\n",
    "r = np.sqrt(((x-c)/b)**2 + (y/b)**2)\n",
    "a = np.sin(r)\n",
    "d1 = sc.Dataset()\n",
    "d1.coords['x'] = sc.Variable(['x'], values=xx, unit=sc.units.m)\n",
    "d1.coords['y'] = sc.Variable(['y'], values=yy, unit=sc.units.m)\n",
    "d1['Signal'] = sc.Variable(['y', 'x'], values=a, unit=sc.units.counts)\n",
    "plot(d1)"
   ]
  },
  {
   "cell_type": "markdown",
   "metadata": {},
   "source": [
    "The dimension displayed along each axis of the image can be selected with the `axes` keyword argument which accepts a list of dimensions:"
   ]
  },
  {
   "cell_type": "code",
   "execution_count": null,
   "metadata": {},
   "outputs": [],
   "source": [
    "plot(d1, axes=['x', 'y'])"
   ]
  },
  {
   "cell_type": "markdown",
   "metadata": {},
   "source": [
    "### 2-D data with variances\n",
    "\n",
    "If variances are present, they are not displayed by default, but they can be shown alongside the data values by using `variances=True`:"
   ]
  },
  {
   "cell_type": "code",
   "execution_count": null,
   "metadata": {},
   "outputs": [],
   "source": [
    "d1['Signal'].variances = np.abs(np.random.normal(a * 0.1, 0.05))\n",
    "plot(d1, variances=True)"
   ]
  },
  {
   "cell_type": "markdown",
   "metadata": {},
   "source": [
    "### Changing the colorscale\n",
    "\n",
    "Changing the colorscale is handled in a similar way to the matplotlib API. The colormap is defined by the `cmap` argument:"
   ]
  },
  {
   "cell_type": "code",
   "execution_count": null,
   "metadata": {},
   "outputs": [],
   "source": [
    "plot(d1, cmap=\"magma\")"
   ]
  },
  {
   "cell_type": "markdown",
   "metadata": {},
   "source": [
    "A logarithmic colorscale is obtained by setting `log` to `True`:"
   ]
  },
  {
   "cell_type": "code",
   "execution_count": null,
   "metadata": {},
   "outputs": [],
   "source": [
    "plot(d1, log=True)"
   ]
  },
  {
   "cell_type": "markdown",
   "metadata": {},
   "source": [
    "Upper and lower limits on the colorscale can be placed using `vmin` and `vmax`:"
   ]
  },
  {
   "cell_type": "code",
   "execution_count": null,
   "metadata": {},
   "outputs": [],
   "source": [
    "plot(d1, vmin=0, vmax=0.5)"
   ]
  },
  {
   "cell_type": "markdown",
   "metadata": {},
   "source": [
    "And this can also be applied to the variances by using dicts to separate the values and variances parameters. Note that to show the variances, we need to have `\"show\": True` in the variances dict:"
   ]
  },
  {
   "cell_type": "code",
   "execution_count": null,
   "metadata": {},
   "outputs": [],
   "source": [
    "plot(d1, values={\"vmin\": 0, \"vmax\": 0.5},\n",
    "     variances={\"show\":True, \"vmin\": 0.1, \"vmax\": 0.3, \"cmap\": \"magma\"})"
   ]
  },
  {
   "cell_type": "markdown",
   "metadata": {},
   "source": [
    "Note that the 'global' (non-dict) keyword argument will apply to both values and variances, but will be over-ridden by dict-like arguments, e.g."
   ]
  },
  {
   "cell_type": "code",
   "execution_count": null,
   "metadata": {},
   "outputs": [],
   "source": [
    "plot(d1, cmap=\"magma\", vmin=0.2, vmax=0.9, variances={\"show\": True, \"vmax\": 0.35})"
   ]
  },
  {
   "cell_type": "markdown",
   "metadata": {},
   "source": [
    "### Using labels along some axis\n",
    "\n",
    "Just like in the 1d plots, we can use labels along a chosen dimension:"
   ]
  },
  {
   "cell_type": "code",
   "execution_count": null,
   "metadata": {},
   "outputs": [],
   "source": [
    "d1.labels[\"somelabels\"] = sc.Variable(['x'],\n",
    "                                      values=np.linspace(101., 155., N),\n",
    "                                      unit=sc.units.s)\n",
    "plot(d1, axes=['y', \"somelabels\"])"
   ]
  },
  {
   "cell_type": "markdown",
   "metadata": {},
   "source": [
    "### Collapsing dimensions\n",
    "\n",
    "Sometimes it is useful to collapse one or more of the data's dimensions, if for instance most detector pixels contain noise, but one specific channel contains a strong signal. This is done by specifying the dimension to be displayed along the x axis as a keyword argument. All other dimensions will be collapsed."
   ]
  },
  {
   "cell_type": "code",
   "execution_count": null,
   "metadata": {},
   "outputs": [],
   "source": [
    "N = 40\n",
    "M = 5\n",
    "x = np.arange(N).astype(np.float64)\n",
    "b = 0.5 * N\n",
    "a = 4.0*np.random.rand(M, N)\n",
    "a[2, :] = np.abs(10.0 * np.cos((x-b)*2.0/b))\n",
    "d2 = sc.Dataset()\n",
    "d2.coords['tof'] = sc.Variable(['tof'], values=x, unit=sc.units.us)\n",
    "d2.coords['x'] = sc.Variable(['x'], values=np.arange(M).astype(np.float64),\n",
    "                               unit=sc.units.m)\n",
    "d2['sample'] = sc.Variable(['x', 'tof'], values=a,\n",
    "                           variances=0.1*np.random.rand(M, N))\n",
    "plot(d2)\n",
    "plot(d2, collapse='tof')"
   ]
  },
  {
   "cell_type": "markdown",
   "metadata": {},
   "source": [
    "### Image aspect ratio\n",
    "By default, the aspect ratio of 2D images is not preserved; images are stretched to the size of the figure. You can choose to preserve the aspect ratio via the `aspect` keyword argument:"
   ]
  },
  {
   "cell_type": "code",
   "execution_count": null,
   "metadata": {},
   "outputs": [],
   "source": [
    "plot(d2, aspect=\"equal\")"
   ]
  },
  {
   "cell_type": "markdown",
   "metadata": {},
   "source": [
    "You can also make this a permanent setting by comitting it to the `config` module (possible options are `\"equal\"` and `\"auto\"`):"
   ]
  },
  {
   "cell_type": "code",
   "execution_count": null,
   "metadata": {},
   "outputs": [],
   "source": [
    "sc.config.plot.aspect = \"equal\"\n",
    "sc.config.plot.aspect = \"auto\""
   ]
  },
  {
   "cell_type": "markdown",
   "metadata": {},
   "source": [
    "## Plotting data with 3 and more dimensions\n",
    "\n",
    "Data with 3 or more dimensions are by default represented by a 2-D image, accompanied by sliders to navigate the extra dimensions (one slider per dimension above 2)."
   ]
  },
  {
   "cell_type": "code",
   "execution_count": null,
   "metadata": {},
   "outputs": [],
   "source": [
    "N = 50\n",
    "M = 40\n",
    "L = 30\n",
    "K = 20\n",
    "xx = np.arange(N, dtype=np.float64)\n",
    "yy = np.arange(M, dtype=np.float64)\n",
    "zz = np.arange(L, dtype=np.float64)\n",
    "qq = np.arange(K, dtype=np.float64)\n",
    "x, y, z, q = np.meshgrid(xx, yy, zz, qq, indexing='ij')\n",
    "b = N/20.0\n",
    "c = M/2.0\n",
    "d = L/2.0\n",
    "r = np.sqrt(((x-c)/b)**2 + ((y-c)/b)**2 + ((z-d)/b)**2  + ((q-d)/b)**2)\n",
    "a = np.sin(r)\n",
    "d3 = sc.Dataset()\n",
    "d3.coords['x'] = sc.Variable(['x'], values=xx)\n",
    "d3.coords['y'] = sc.Variable(['y'], values=yy)\n",
    "d3.coords['z'] = sc.Variable(['z'], values=zz)\n",
    "d3.coords[\"Q_x\"] = sc.Variable([\"Q_x\"], values=qq)\n",
    "d3['Some3Ddata'] = sc.Variable(['x', 'y', 'z', \"Q_x\"], values=a,\n",
    "                               variances=np.abs(np.random.normal(a * 0.1, 0.05)))\n",
    "plot(d3)"
   ]
  },
  {
   "cell_type": "markdown",
   "metadata": {},
   "source": [
    "![sliders4d](../images/plotting/sliders4d.png)"
   ]
  },
  {
   "cell_type": "markdown",
   "metadata": {},
   "source": [
    "By default, the two innermost dimensions are used for the image, and the rest will be allocated to a slider.\n",
    "This can be changed, either interactively using the buttons, or by specifying the order of the axes in the `plot` command:"
   ]
  },
  {
   "cell_type": "code",
   "execution_count": null,
   "metadata": {},
   "outputs": [],
   "source": [
    "plot(d3, axes=['z', 'Q_x', 'y', 'x'])"
   ]
  },
  {
   "cell_type": "markdown",
   "metadata": {},
   "source": [
    "![sliders4dv2](../images/plotting/sliders4dv2.png)"
   ]
  },
  {
   "cell_type": "markdown",
   "metadata": {},
   "source": [
    "### Plotting in 3 dimensions\n",
    "It is also possible to use a 3d projection. To use 3d visualization, you will have to install `ipyvolume` and `ipyevents` on your system, and enable the `ipyevents` jupyter extension:\n",
    "```\n",
    "conda install ipyvolume ipyevents\n",
    "jupyter nbextension enable --py ipyevents\n",
    "```\n",
    "To view the 3d projection, use:"
   ]
  },
  {
   "cell_type": "code",
   "execution_count": null,
   "metadata": {},
   "outputs": [],
   "source": [
    "plot(d3, projection=\"3d\")"
   ]
  },
  {
   "cell_type": "markdown",
   "metadata": {},
   "source": [
    "![proj3d](../images/plotting/threeslice.png)"
   ]
  },
  {
   "cell_type": "markdown",
   "metadata": {},
   "source": [
    "### LAMP's Superplot\n",
    "Finally, a `1d` projection is also available for multidimensional data, with the possibility to keep/remove lines that are plotted, a behaviour we copied from LAMP's [Superplot](https://github.com/mantidproject/documents/blob/master/Requirements/Visualisation_and_Analysis/superplot.md) which was very popular in the neutron physics community."
   ]
  },
  {
   "cell_type": "code",
   "execution_count": null,
   "metadata": {},
   "outputs": [],
   "source": [
    "plot(d3, projection=\"1d\")"
   ]
  },
  {
   "cell_type": "markdown",
   "metadata": {},
   "source": [
    "![superplot](../images/plotting/superplot_widgets.png)"
   ]
  },
  {
   "cell_type": "markdown",
   "metadata": {},
   "source": [
    "## Convenience Methods\n",
    "A small number of convenience methods are included in the `plot` module which provide shortcuts to the different projections. These are `image`, `threeslice`, and `superplot`, and are used in the following way:"
   ]
  },
  {
   "cell_type": "code",
   "execution_count": null,
   "metadata": {},
   "outputs": [],
   "source": [
    "from scipp import plot as pl\n",
    "pl.threeslice(d3)"
   ]
  },
  {
   "cell_type": "markdown",
   "metadata": {},
   "source": [
    "![threeslice](../images/plotting/threeslice.png)"
   ]
  },
  {
   "cell_type": "markdown",
   "metadata": {},
   "source": [
    "## Plotting masks\n",
    "\n",
    "If a dataset contains masks, the symbols of masks data points will have a thick black contour in a 1D plot:"
   ]
  },
  {
   "cell_type": "code",
   "execution_count": null,
   "metadata": {},
   "outputs": [],
   "source": [
    "d4 = sc.Dataset()\n",
    "N = 50\n",
    "x = np.arange(N).astype(np.float64)\n",
    "d4.coords['tof'] = sc.Variable(['tof'], values=x,\n",
    "                                 unit=sc.units.us)\n",
    "d4['Sample'] = sc.Variable(['tof'], values=3*np.sin(x/5)+3,\n",
    "                           unit=sc.units.counts)\n",
    "d4['Background'] = sc.Variable(['tof'], values=1.0*np.random.rand(N),\n",
    "                               unit=sc.units.counts)\n",
    "d4.masks[\"mask1\"] = sc.Variable(['tof'],\n",
    "                                values=np.where(np.abs(x-40) < 10, True, False))\n",
    "plot(d4)"
   ]
  },
  {
   "cell_type": "markdown",
   "metadata": {},
   "source": [
    "A toggle button below the plot can be used to hide/show the masks. The color of the masks can be changed as follows:"
   ]
  },
  {
   "cell_type": "code",
   "execution_count": null,
   "metadata": {},
   "outputs": [],
   "source": [
    "plot(d4, masks={\"color\": \"red\"})"
   ]
  },
  {
   "cell_type": "markdown",
   "metadata": {},
   "source": [
    "### Masks on histograms\n",
    "\n",
    "Masks on a histogram show up as a thick black line:"
   ]
  },
  {
   "cell_type": "code",
   "execution_count": null,
   "metadata": {},
   "outputs": [],
   "source": [
    "d4 = sc.Dataset()\n",
    "N = 50\n",
    "x = np.arange(N+1).astype(np.float64)\n",
    "d4.coords['tof'] = sc.Variable(['tof'], values=x,\n",
    "                                 unit=sc.units.us)\n",
    "d4['Histo'] = sc.Variable(['tof'], values=3*np.sin(x[:-1]/5)+3,\n",
    "                           unit=sc.units.counts)\n",
    "d4.masks[\"mask1\"] = sc.Variable(['tof'],\n",
    "                                values=np.where(np.abs(x[:-1]-40) < 10, True, False))\n",
    "plot(d4)"
   ]
  },
  {
   "cell_type": "markdown",
   "metadata": {},
   "source": [
    "### Masks on 2D images\n",
    "\n",
    "Masks on a 2D dataset will appear as greyed out on the image:"
   ]
  },
  {
   "cell_type": "code",
   "execution_count": null,
   "metadata": {},
   "outputs": [],
   "source": [
    "N = 100\n",
    "M = 50\n",
    "xx = np.arange(N, dtype=np.float64)\n",
    "yy = np.arange(M, dtype=np.float64)\n",
    "x, y = np.meshgrid(xx, yy)\n",
    "b = N/20.0\n",
    "c = M/2.0\n",
    "r = np.sqrt(((x-c)/b)**2 + (y/b)**2)\n",
    "a = np.sin(r)\n",
    "d1 = sc.Dataset()\n",
    "d1.coords['x'] = sc.Variable(['x'], values=xx, unit=sc.units.m)\n",
    "d1.coords['y'] = sc.Variable(['y'], values=yy, unit=sc.units.m)\n",
    "d1['Signal'] = sc.Variable(['y', 'x'], values=a, unit=sc.units.counts)\n",
    "d1.masks[\"mask1\"] = sc.Variable(['y', 'x'], values=np.where(a < 0, True, False))\n",
    "plot(d1)"
   ]
  },
  {
   "cell_type": "markdown",
   "metadata": {},
   "source": [
    "The mask can be represented as a solid color with"
   ]
  },
  {
   "cell_type": "code",
   "execution_count": null,
   "metadata": {},
   "outputs": [],
   "source": [
    "plot(d1, masks={\"color\": \"magenta\"})"
   ]
  },
  {
   "cell_type": "markdown",
   "metadata": {},
   "source": [
    "We also note that any 1D mask will automatically broadcast onto a 2D image:"
   ]
  },
  {
   "cell_type": "code",
   "execution_count": null,
   "metadata": {},
   "outputs": [],
   "source": [
    "d1.masks[\"mask1\"] = sc.Variable(['x'], values=np.where(np.abs(xx-50) < 10, True, False))\n",
    "plot(d1)"
   ]
  },
  {
   "cell_type": "markdown",
   "metadata": {},
   "source": [
    "## Plotting sparse data\n",
    "If a `Dataset` contains sparse data, it is possible to plot the data either directly, or using some on-the-fly histogramming."
   ]
  },
  {
   "cell_type": "code",
   "execution_count": null,
   "metadata": {},
   "outputs": [],
   "source": [
    "N = 50\n",
    "M = 10\n",
    "var = sc.Variable(dims=['x', 'tof'],\n",
    "                  shape=[M, sc.Dimensions.Sparse],\n",
    "                  unit=sc.units.us)\n",
    "for i in range(M):\n",
    "    v = np.random.normal(50.0, scale=20.0, size=int(np.random.rand()*N))\n",
    "    var['x', i].values = v\n",
    "\n",
    "d5 = sc.Dataset()\n",
    "d5.coords['x'] = sc.Variable(['x'], values=np.arange(M), unit=sc.units.m)\n",
    "d5['a'] = sc.DataArray(coords={'tof': var})\n",
    "sc.show(d5)\n",
    "plot(d5)"
   ]
  },
  {
   "cell_type": "markdown",
   "metadata": {},
   "source": [
    "On-the-fly histogramming is achieved by giving a `bins` keyword argument. This can either be a single integer (the number of bins; in this case the extents of the sparse dimension are automatically computed), a numpy array (representing the bin edges), or a `scipp` Variable (representing the bin edges, see https://scipp.readthedocs.io/en/latest/generated/scipp.histogram.html):"
   ]
  },
  {
   "cell_type": "code",
   "execution_count": null,
   "metadata": {},
   "outputs": [],
   "source": [
    "plot(d5, bins=50)"
   ]
  },
  {
   "cell_type": "markdown",
   "metadata": {},
   "source": [
    "If the sparse coordinate has data attached to it (this will usually correspond to weights for each data point), this can be represented by colors in the scatter plot:"
   ]
  },
  {
   "cell_type": "code",
   "execution_count": null,
   "metadata": {},
   "outputs": [],
   "source": [
    "dat = sc.Variable(dims=['x', 'tof'],\n",
    "                  shape=[M, sc.Dimensions.Sparse],\n",
    "                  unit=sc.units.us)\n",
    "for i in range(M):\n",
    "    v = np.random.normal(50.0, scale=20.0, size=len(var['x', i].values))\n",
    "    dat['x', i].values = v\n",
    "\n",
    "d5['a'] = sc.DataArray(data=dat, coords={'tof': var})\n",
    "sc.show(d5)\n",
    "plot(d5)"
   ]
  },
  {
   "cell_type": "markdown",
   "metadata": {},
   "source": [
    "Plotting sparse data with an additional dimension is also possible:"
   ]
  },
  {
   "cell_type": "code",
   "execution_count": null,
   "metadata": {},
   "outputs": [],
   "source": [
    "N = 50\n",
    "M = 10\n",
    "L = 15\n",
    "var = sc.Variable(dims=['y', 'x', 'tof'],\n",
    "                  shape=[L, M, sc.Dimensions.Sparse],\n",
    "                  unit=sc.units.us)\n",
    "dat = sc.Variable(dims=['y', 'x', 'tof'],\n",
    "                  shape=[L, M, sc.Dimensions.Sparse],\n",
    "                  unit=sc.units.us)\n",
    "for i in range(M):\n",
    "    for j in range(L):\n",
    "        v = np.random.normal(50.0, scale=20.0, size=int(np.random.rand()*N))\n",
    "        var['y', j]['x', i].values = v\n",
    "        dat['y', j]['x', i].values = v * 0.5\n",
    "\n",
    "d6 = sc.Dataset()\n",
    "d6.coords['x'] = sc.Variable(['x'], values=np.arange(M), unit=sc.units.m)\n",
    "d6.coords['y'] = sc.Variable(['y'], values=np.arange(L), unit=sc.units.m)\n",
    "d6['a'] = sc.DataArray(data=dat, coords={'tof': var})\n",
    "plot(d6)"
   ]
  },
  {
   "cell_type": "markdown",
   "metadata": {},
   "source": [
    "![sparse3d](../images/plotting/sparse3d.png)"
   ]
  },
  {
   "cell_type": "markdown",
   "metadata": {},
   "source": [
    "## Saving figures\n",
    "Static `pdf` or `png` copies of the figures can be saved to file (note that any sliders and buttons displayed under a figure is not saved to file). This is achieved as follows:"
   ]
  },
  {
   "cell_type": "code",
   "execution_count": null,
   "metadata": {},
   "outputs": [],
   "source": [
    "plot(d5, filename=\"myfigure.pdf\")"
   ]
  },
  {
   "cell_type": "markdown",
   "metadata": {},
   "source": [
    "It is also possible to save the 3D figures as a fully interactive html file:"
   ]
  },
  {
   "cell_type": "code",
   "execution_count": null,
   "metadata": {},
   "outputs": [],
   "source": [
    "plot(d6, filename=\"my3dscatterplot.html\")"
   ]
  },
  {
   "cell_type": "code",
   "execution_count": null,
   "metadata": {},
   "outputs": [],
   "source": []
  }
 ],
 "metadata": {
  "kernelspec": {
   "display_name": "Python 3",
   "language": "python",
   "name": "python3"
  },
  "language_info": {
   "codemirror_mode": {
    "name": "ipython",
    "version": 3
   },
   "file_extension": ".py",
   "mimetype": "text/x-python",
   "name": "python",
   "nbconvert_exporter": "python",
   "pygments_lexer": "ipython3",
   "version": "3.7.4"
  }
 },
 "nbformat": 4,
 "nbformat_minor": 2
}
