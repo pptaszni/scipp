{
 "cells": [
  {
   "cell_type": "markdown",
   "metadata": {},
   "source": [
    "# Customizing figures\n",
    "\n",
    "Sometimes, even though relatively customizeable, the `plot` method of `scipp` is not flexible enough for one's needs. In this section, we explore how the figures produced by the `scipp.plot` module can be further modified.\n",
    "\n",
    "## Modifying the returned SciPlot object\n",
    "\n",
    "There are two ways of customizing `scipp` figures. The first one is to first create a default figure using the `plot` function, and then modifying its contents.\n",
    "\n",
    "The `plot` commands actually returns a `SciPlot` object which is basically a Python `dict` that contains all the different plot elements, (including the control widgets) grouped into a convenient fashion, and whose notebook representation (`__repr__`) has been muted to limit noise in notebooks."
   ]
  },
  {
   "cell_type": "code",
   "execution_count": null,
   "metadata": {},
   "outputs": [],
   "source": [
    "import numpy as np\n",
    "import scipp as sc\n",
    "from scipp.plot import plot"
   ]
  },
  {
   "cell_type": "code",
   "execution_count": null,
   "metadata": {},
   "outputs": [],
   "source": [
    "N = 60\n",
    "M = 5\n",
    "d = sc.Dataset()\n",
    "d.coords['tof'] = sc.Variable(['tof'],\n",
    "                                values=np.arange(N).astype(np.float64),\n",
    "                                unit=sc.units.us)\n",
    "d['Sample1D'] = sc.Variable(['tof'], values=10.0*np.random.rand(N),\n",
    "                            unit=sc.units.counts)\n",
    "d['Noise1D'] = sc.Variable(['tof'], values=10.0*np.random.rand(N-1),\n",
    "                           variances=3.0*np.random.rand(N-1),\n",
    "                           unit=sc.units.counts)\n",
    "d.coords['x'] = sc.Variable(['x'], values=np.arange(M).astype(np.float64),\n",
    "                              unit=sc.units.m)\n",
    "d['Image2D'] = sc.Variable(['x', 'tof'], values=10.0*np.random.rand(M, N),\n",
    "                           variances=np.random.rand(M, N))\n",
    "out = plot(d)"
   ]
  },
  {
   "cell_type": "markdown",
   "metadata": {},
   "source": [
    "The `out` object contains one key per figure, which is either a combination of `Dimension` and unit for 1d plots, or the name of the variable (`Image2D`) in out case:"
   ]
  },
  {
   "cell_type": "code",
   "execution_count": null,
   "metadata": {},
   "outputs": [],
   "source": [
    "print(out.keys())\n",
    "print(out[\"tof.counts\"])"
   ]
  },
  {
   "cell_type": "markdown",
   "metadata": {},
   "source": [
    "It is then possible to customize figures such as changing a line color or an axis label (note that in case of the 2D images, the `\"ax\"` object is a `dict` as it can contain axes for both `\"values\"` and `\"variances\"`):"
   ]
  },
  {
   "cell_type": "code",
   "execution_count": null,
   "metadata": {},
   "outputs": [],
   "source": [
    "out[\"tof.counts\"][\"lines\"][\"Sample1D\"].set_color(\"cyan\")\n",
    "out[\"Image2D\"][\"ax\"][\"values\"].set_xlabel(\"A shiny new axis label!\")\n",
    "out[\"tof.counts\"][\"fig\"]"
   ]
  },
  {
   "cell_type": "code",
   "execution_count": null,
   "metadata": {},
   "outputs": [],
   "source": [
    "out[\"Image2D\"][\"fig\"]"
   ]
  },
  {
   "cell_type": "markdown",
   "metadata": {},
   "source": [
    "## Placing figures inside existing Matplotlib axes\n",
    "\n",
    "Sometimes, the `scipp` default graphs are not flexible enough for advanced figures. One common case is placing figures in subplots, for example. To this end, it is also possible to attach `scipp` plots to existing `matplotlib` axes.\n",
    "\n",
    "This is achieved via the `mpl_axes` keyword argument, and is best illustrated via a short demo."
   ]
  },
  {
   "cell_type": "code",
   "execution_count": null,
   "metadata": {},
   "outputs": [],
   "source": [
    "import matplotlib.pyplot as plt"
   ]
  },
  {
   "cell_type": "markdown",
   "metadata": {},
   "source": [
    "We first create 3 subplots:"
   ]
  },
  {
   "cell_type": "code",
   "execution_count": null,
   "metadata": {},
   "outputs": [],
   "source": [
    "figs, axs = plt.subplots(1, 3, figsize=(8, 3))"
   ]
  },
  {
   "cell_type": "markdown",
   "metadata": {},
   "source": [
    "Then a `Dataset` with some 2D data:"
   ]
  },
  {
   "cell_type": "code",
   "execution_count": null,
   "metadata": {},
   "outputs": [],
   "source": [
    "N = 100\n",
    "M = 50\n",
    "xx = np.arange(N, dtype=np.float64)\n",
    "yy = np.arange(M, dtype=np.float64)\n",
    "x, y = np.meshgrid(xx[:-1], yy)\n",
    "b = N/20.0\n",
    "c = M/2.0\n",
    "r = np.sqrt(((x-c)/b)**2 + ((y-c)/b)**2)\n",
    "a = 10.0 * np.sin(r)\n",
    "d1 = sc.Dataset()\n",
    "d1.coords['x'] = sc.Variable(['x'], values=xx, unit=sc.units.m)\n",
    "d1.coords['y'] = sc.Variable(['y'], values=yy, unit=sc.units.m)\n",
    "d1['Signal'] = sc.Variable(['y', 'x'], values=a, unit=sc.units.counts)"
   ]
  },
  {
   "cell_type": "markdown",
   "metadata": {},
   "source": [
    "Next, we attach the 2D image plot to the first subplot, and display the colorbar in the third subplot:"
   ]
  },
  {
   "cell_type": "code",
   "execution_count": null,
   "metadata": {},
   "outputs": [],
   "source": [
    "out = plot(d1, mpl_axes={\"ax\": axs[0], \"cax\": axs[2]})\n",
    "out.keys()"
   ]
  },
  {
   "cell_type": "markdown",
   "metadata": {},
   "source": [
    "This has just returned a `dict` of `matplotlib` objects, but then we can check that our original figure has been updated:"
   ]
  },
  {
   "cell_type": "code",
   "execution_count": null,
   "metadata": {},
   "outputs": [],
   "source": [
    "figs"
   ]
  },
  {
   "cell_type": "markdown",
   "metadata": {},
   "source": [
    "We can add a 1D plot of a slice through the 2D data in the middle panel, and check once again the original figure:"
   ]
  },
  {
   "cell_type": "code",
   "execution_count": null,
   "metadata": {},
   "outputs": [],
   "source": [
    "out1 = plot(d1[\"Signal\"]['x', 1], mpl_axes=axs[1])\n",
    "figs"
   ]
  },
  {
   "cell_type": "markdown",
   "metadata": {},
   "source": [
    "Next we create a second dataset with some more 1D data and add it to the middle panel:"
   ]
  },
  {
   "cell_type": "code",
   "execution_count": null,
   "metadata": {},
   "outputs": [],
   "source": [
    "d2 = sc.Dataset()\n",
    "N = 100\n",
    "d2.coords['tof'] = sc.Variable(['tof'],\n",
    "                               values=np.arange(N).astype(np.float64),\n",
    "                               unit=sc.units.us)\n",
    "d2[\"Sample\"] = sc.Variable(['tof'],\n",
    "                           values=10.0 * np.random.rand(N),\n",
    "                           variances=np.random.rand(N),\n",
    "                           unit=sc.units.counts)\n",
    "d2[\"Background\"] = sc.Variable(['tof'],\n",
    "                               values=2.0 * np.random.rand(N-1),\n",
    "                               unit=sc.units.counts)\n",
    "out2 = plot(d2, mpl_axes=axs[1], color=['r', 'g'])\n",
    "figs"
   ]
  },
  {
   "cell_type": "markdown",
   "metadata": {},
   "source": [
    "We can now for example modify the axes labels:"
   ]
  },
  {
   "cell_type": "code",
   "execution_count": null,
   "metadata": {},
   "outputs": [],
   "source": [
    "axs[0].set_xlabel(\"This is my new label!\")\n",
    "figs"
   ]
  },
  {
   "cell_type": "markdown",
   "metadata": {},
   "source": [
    "You can then also access the individual plot objects and change their properties. For example, if we wish to show a line connecting the green `\"Sample\"` markers, we can do:"
   ]
  },
  {
   "cell_type": "code",
   "execution_count": null,
   "metadata": {},
   "outputs": [],
   "source": [
    "out2[\"tof.counts\"][\"lines\"][\"Sample\"].set_linestyle('solid')\n",
    "figs"
   ]
  },
  {
   "cell_type": "code",
   "execution_count": null,
   "metadata": {},
   "outputs": [],
   "source": []
  }
 ],
 "metadata": {
  "kernelspec": {
   "display_name": "Python 3",
   "language": "python",
   "name": "python3"
  },
  "language_info": {
   "codemirror_mode": {
    "name": "ipython",
    "version": 3
   },
   "file_extension": ".py",
   "mimetype": "text/x-python",
   "name": "python",
   "nbconvert_exporter": "python",
   "pygments_lexer": "ipython3",
   "version": "3.7.4"
  }
 },
 "nbformat": 4,
 "nbformat_minor": 2
}
