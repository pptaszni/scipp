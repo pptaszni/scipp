{
 "cells": [
  {
   "cell_type": "markdown",
   "metadata": {},
   "source": [
    "# Physical units\n",
    "\n",
    "All variables in scipp have a physical unit.\n",
    "Variables are used for coordinates, labels, data, as well as attributes, i.e., all of these have a unit.\n",
    "\n",
    "When not specified explicitly the unit of a variable defaults to `scipp.units.dimensionless`, i.e., the variable is considered dimensionless.\n",
    "\n",
    "`scipp.units` provides a number of pre-defined elementary units as well as operations between units.\n",
    "This can be used to create units that do not have a pref-defined identifier:"
   ]
  },
  {
   "cell_type": "code",
   "execution_count": null,
   "metadata": {},
   "outputs": [],
   "source": [
    "import scipp as sc\n",
    "\n",
    "length = sc.units.m\n",
    "area = length * length\n",
    "area"
   ]
  },
  {
   "cell_type": "code",
   "execution_count": null,
   "metadata": {},
   "outputs": [],
   "source": [
    "volume = length * length * length\n",
    "volume"
   ]
  },
  {
   "cell_type": "code",
   "execution_count": null,
   "metadata": {},
   "outputs": [],
   "source": [
    "speed = length / sc.units.s\n",
    "speed"
   ]
  },
  {
   "cell_type": "markdown",
   "metadata": {},
   "source": [
    "Due to a restriction in scipp's units implementation the set of supported units is unfortunately limited at compile-time of the underlying C++ library:"
   ]
  },
  {
   "cell_type": "code",
   "execution_count": null,
   "metadata": {},
   "outputs": [],
   "source": [
    "try:\n",
    "  sc.units.s / volume\n",
    "except Exception as e:\n",
    "  print(str(e))\n"
   ]
  },
  {
   "cell_type": "markdown",
   "metadata": {},
   "source": [
    "See [Customizing Scipp](../developer/customizing.rst) on how additional units can be added."
   ]
  }
 ],
 "metadata": {
  "kernelspec": {
   "display_name": "Python 3",
   "language": "python",
   "name": "python3"
  },
  "language_info": {
   "codemirror_mode": {
    "name": "ipython",
    "version": 3
   },
   "file_extension": ".py",
   "mimetype": "text/x-python",
   "name": "python",
   "nbconvert_exporter": "python",
   "pygments_lexer": "ipython3",
   "version": "3.7.3"
  }
 },
 "nbformat": 4,
 "nbformat_minor": 2
}
