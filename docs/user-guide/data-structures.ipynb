{
 "cells": [
  {
   "cell_type": "markdown",
   "metadata": {},
   "source": [
    "# Data Structures\n",
    "\n",
    "## Variable\n",
    "\n",
    "### Basics\n",
    "\n",
    "[scipp.Variable](../generated/scipp.Variable.rst#scipp.Variable) is a labeled multi-dimensional array.\n",
    "A variable can be constructed using:\n",
    "\n",
    "- `values`: a multi-dimensional array of values, e.g., a [numpy.ndarray](https://docs.scipy.org/doc/numpy/reference/generated/numpy.ndarray.html#numpy.ndarray)\n",
    "- `variances`: a (optional) multi-dimensional array of variances for the array values\n",
    "- `dims`: a list of dimension labels (strings) for each axis of the array\n",
    "- `unit`: a (optional) physical unit of the values in the array\n",
    "\n",
    "Note that variables, unlike [DataArray](data-structures.ipynb#DataArray) and its eponym [xarray.DataArray](https://xarray.pydata.org/en/stable/generated/xarray.DataArray.rst#xarray.DataArray), variables do *not* have coordinate arrays."
   ]
  },
  {
   "cell_type": "code",
   "execution_count": null,
   "metadata": {},
   "outputs": [],
   "source": [
    "import numpy as np\n",
    "import scipp as sc"
   ]
  },
  {
   "cell_type": "code",
   "execution_count": null,
   "metadata": {},
   "outputs": [],
   "source": [
    "var = sc.Variable(values=np.random.rand(2, 4), dims=['x', 'y'])"
   ]
  },
  {
   "cell_type": "code",
   "execution_count": null,
   "metadata": {},
   "outputs": [],
   "source": [
    "sc.show(var)"
   ]
  },
  {
   "cell_type": "code",
   "execution_count": null,
   "metadata": {},
   "outputs": [],
   "source": [
    "var"
   ]
  },
  {
   "cell_type": "code",
   "execution_count": null,
   "metadata": {},
   "outputs": [],
   "source": [
    "var.unit"
   ]
  },
  {
   "cell_type": "code",
   "execution_count": null,
   "metadata": {},
   "outputs": [],
   "source": [
    "var.values"
   ]
  },
  {
   "cell_type": "code",
   "execution_count": null,
   "metadata": {},
   "outputs": [],
   "source": [
    "try:\n",
    "    var.variances\n",
    "except RuntimeError:\n",
    "    print('No variances specified, so they do not exist.')"
   ]
  },
  {
   "cell_type": "markdown",
   "metadata": {},
   "source": [
    "Variances must have the same shape as values, and units are specified using the [scipp.units](../python-reference/units.rst) module:"
   ]
  },
  {
   "cell_type": "code",
   "execution_count": null,
   "metadata": {},
   "outputs": [],
   "source": [
    "var = sc.Variable(values=np.random.rand(2, 4),\n",
    "                  variances=np.random.rand(2, 4),\n",
    "                  dims=['x', 'y'],\n",
    "                  unit=sc.units.m/sc.units.s)\n",
    "sc.show(var)"
   ]
  },
  {
   "cell_type": "code",
   "execution_count": null,
   "metadata": {},
   "outputs": [],
   "source": [
    "var"
   ]
  },
  {
   "cell_type": "code",
   "execution_count": null,
   "metadata": {},
   "outputs": [],
   "source": [
    "var.variances"
   ]
  },
  {
   "cell_type": "markdown",
   "metadata": {},
   "source": [
    "### 0-D variables (scalars)\n",
    "\n",
    "A 0-dimensional variable contains a single value (and an optional variance).\n",
    "The most convenient way to create a scalar variable is by multiplying a value by a unit:"
   ]
  },
  {
   "cell_type": "code",
   "execution_count": null,
   "metadata": {},
   "outputs": [],
   "source": [
    "scalar = 1.2 * sc.units.m\n",
    "sc.show(scalar)\n",
    "scalar"
   ]
  },
  {
   "cell_type": "markdown",
   "metadata": {},
   "source": [
    "For convenience, singular versions of the `values` and `variances` properties are provided:"
   ]
  },
  {
   "cell_type": "code",
   "execution_count": null,
   "metadata": {
    "scrolled": false
   },
   "outputs": [],
   "source": [
    "print(scalar.value)\n",
    "print(scalar.variance)"
   ]
  },
  {
   "cell_type": "markdown",
   "metadata": {},
   "source": [
    "Note that `value` and `variance` include a check ensuring that the data is 0-D.\n",
    "Using them with, e.g., a 1-D variable with dimension extent 1 will raise an exception.\n",
    "\n",
    "Creating scalar variables with variances or with custom `dtype` is possible using the constructor:"
   ]
  },
  {
   "cell_type": "code",
   "execution_count": null,
   "metadata": {},
   "outputs": [],
   "source": [
    "var_0d = sc.Variable(variances=True, dtype=sc.dtype.float32, unit=sc.units.kg)\n",
    "var_0d"
   ]
  },
  {
   "cell_type": "code",
   "execution_count": null,
   "metadata": {},
   "outputs": [],
   "source": [
    "var_0d.value = 2.3\n",
    "var_0d.variance"
   ]
  },
  {
   "cell_type": "markdown",
   "metadata": {},
   "source": [
    "An exception is raised from the `value` and `variance` properties if the variable is not 0-dimensional.\n",
    "Note that a variable with one or more dimension extent(s) of 1 contains just a single value as well, but the `value` property will nevertheless raise an exception."
   ]
  },
  {
   "cell_type": "markdown",
   "metadata": {},
   "source": [
    "### Sparse data\n",
    "\n",
    "[Variable](../generated/scipp.Variable.rst#scipp.Variable)  also supports a single *sparse* dimension.\n",
    "In this case it is currently not possible to set data directly in the constructor.\n",
    "Instead we create it by specifying a shape:"
   ]
  },
  {
   "cell_type": "code",
   "execution_count": null,
   "metadata": {},
   "outputs": [],
   "source": [
    "var = sc.Variable(dims=['x', 'y'],\n",
    "                      shape=[4, sc.Dimensions.Sparse],\n",
    "                      variances=True,\n",
    "                      unit=sc.units.kg)\n",
    "var"
   ]
  },
  {
   "cell_type": "code",
   "execution_count": null,
   "metadata": {},
   "outputs": [],
   "source": [
    "var.shape # The sparse dimension is not part of the shape"
   ]
  },
  {
   "cell_type": "code",
   "execution_count": null,
   "metadata": {},
   "outputs": [],
   "source": [
    "len(var.values[0]) # Initially the extent in the sparse dimension is 0"
   ]
  },
  {
   "cell_type": "markdown",
   "metadata": {},
   "source": [
    "For more details see [Sparse data](sparse-data.rst)."
   ]
  },
  {
   "cell_type": "markdown",
   "metadata": {},
   "source": [
    "## DataArray\n",
    "\n",
    "### Basics\n",
    "\n",
    "[scipp.DataArray](../generated/scipp.DataArray.rst#scipp.DataArray) is a labeled array with associated coordinates.\n",
    "A data array is essentially a [Variable](../generated/scipp.Variable.rst#scipp.Variable) object with attached dicts of coords and labels.\n",
    "\n",
    "A data array has the following key properties:\n",
    "\n",
    "- `data`: the variable holding the array data.\n",
    "- `coords`: a dict-like container of coordinates for the array, accessed using a dimension label as dict key.\n",
    "- `labels`: a dict-like container of labels (auxiliary coordinates) for the array, accessed using a string as dict key.\n",
    "- `masks`: a dict-like container of masks for the array, accessed using a string as dict key.\n",
    "- `attrs`: a dict-like container of attributes for the array, accessed using a string as dict key.\n",
    "\n",
    "Note that `coords` in scipp correspond to dimension-coordinates in xarray, whereas `labels` corresponds to non-dimension coordinates.\n",
    "See also the [xarray documentation](http://xarray.pydata.org/en/stable/data-structures.html#coordinates).\n",
    "\n",
    "The key distinction between `coords`, `labels`, and `attrs` is that the former two are required to match in operations between multiple datasets whereas the latter one is not.\n",
    "`masks` allows for storing boolean-valued masks alongside data.\n",
    "All four have items that are internally a [Variable](../generated/scipp.Variable.rst#scipp.Variable), i.e., they have a physical unit and optionally variances."
   ]
  },
  {
   "cell_type": "code",
   "execution_count": null,
   "metadata": {},
   "outputs": [],
   "source": [
    "d = sc.DataArray(\n",
    "    data = sc.Variable(dims=['y', 'x'], values=np.random.rand(2, 3)),\n",
    "    coords={\n",
    "        'y': sc.Variable(['y'], values=np.arange(2.0), unit=sc.units.m),\n",
    "        'x': sc.Variable(['x'], values=np.arange(3.0), unit=sc.units.m)},\n",
    "    labels={\n",
    "        'aux': sc.Variable(['x'], values=np.random.rand(3))})\n",
    "sc.show(d)"
   ]
  },
  {
   "cell_type": "markdown",
   "metadata": {},
   "source": [
    "Note how the `'aux'` labels are essentially a secondary coordinate for the X dimension.\n",
    "The dict-like `coords`, `labels`, `masks`, and `attrs` properties give access to the respective underlying variables:"
   ]
  },
  {
   "cell_type": "code",
   "execution_count": null,
   "metadata": {},
   "outputs": [],
   "source": [
    "d.coords['x']"
   ]
  },
  {
   "cell_type": "code",
   "execution_count": null,
   "metadata": {},
   "outputs": [],
   "source": [
    "d.labels['aux']"
   ]
  },
  {
   "cell_type": "markdown",
   "metadata": {},
   "source": [
    "Just like `labels`, the `masks` and `attrs` properties are also require a string as a key.\n",
    "\n",
    "Further details about data arrays are implicitly discussed in the next section, which is covering datasets, since each item in a dataset behaves equivalently to a data array.\n",
    "\n",
    "### Distinction between coords and labels\n",
    "\n",
    "It is important to highlight that for practical purposes (such as matching in operations) **coords and labels are handled equivalently**.\n",
    "Essentially:\n",
    "\n",
    "- **Labels are coordinates**.\n",
    "- The only difference is:\n",
    "  - The key to access a coordinate is the dimension label.\n",
    "  - The key to access labels is an arbitrary string.\n",
    "\n",
    "  This also implies that there is at most one coord for each dimension, but there can be multiple labels.\n",
    "- In the special case of labels that have more than 1 dimension, they are considered to be labels for their inner dimension."
   ]
  },
  {
   "cell_type": "markdown",
   "metadata": {},
   "source": [
    "## Dataset\n",
    "\n",
    "[scipp.Dataset](../generated/scipp.Dataset.rst#scipp.Dataset) is a dict-like container of data arrays.\n",
    "Individual items of a dataset (\"data arrays\") are accessed using a string as a dict key.\n",
    "\n",
    "In a dataset the coordinates of the sub-arrays are enforced to be *aligned*.\n",
    "That is, a dataset is not actually just a dict of data arrays.\n",
    "Instead, the individual arrays share coordinates, labels, and attributes.\n",
    "It is therefore not possible to combine arbitrary data arrays into a dataset.\n",
    "If, e.g., the extents in a certain dimension mismatch, or if coordinate/label values mismatch, insertion of the mismatching data array will fail.\n",
    "\n",
    "Typically a dataset is not created from individual data arrays.\n",
    "Instead we may provide a dict of variables (the data of the items), and dicts for coords and labels:"
   ]
  },
  {
   "cell_type": "code",
   "execution_count": null,
   "metadata": {},
   "outputs": [],
   "source": [
    "d = sc.Dataset(\n",
    "            {'a': sc.Variable(dims=['x', 'y'], values=np.random.rand(2, 3)),\n",
    "             'b': sc.Variable(dims=['x'], values=np.random.rand(2)),\n",
    "             'c': sc.Variable(1.0)},\n",
    "             coords={\n",
    "                 'x': sc.Variable(['x'], values=np.arange(2.0), unit=sc.units.m),\n",
    "                 'y': sc.Variable(['y'], values=np.arange(3.0), unit=sc.units.m)},\n",
    "             labels={\n",
    "                 'aux': sc.Variable(['y'], values=np.random.rand(3))})\n",
    "sc.show(d)"
   ]
  },
  {
   "cell_type": "code",
   "execution_count": null,
   "metadata": {},
   "outputs": [],
   "source": [
    "d"
   ]
  },
  {
   "cell_type": "code",
   "execution_count": null,
   "metadata": {},
   "outputs": [],
   "source": [
    "d.coords['x'].values"
   ]
  },
  {
   "cell_type": "markdown",
   "metadata": {},
   "source": [
    "The name of a data item serves as a dict key.\n",
    "Item access returns a view (`DataArrayView`) onto the data in the dataset and its corresponding coordinates, i.e., no copy is made.\n",
    "Apart from that it behaves exactly like `DataArray`."
   ]
  },
  {
   "cell_type": "code",
   "execution_count": null,
   "metadata": {
    "scrolled": false
   },
   "outputs": [],
   "source": [
    "sc.show(d['a'])\n",
    "d['a']"
   ]
  },
  {
   "cell_type": "markdown",
   "metadata": {},
   "source": [
    "Each data item is linked to its corresponding coordinates, labels, and attributes.\n",
    "These are accessed using the `coords`, `labels`, and `attrs` properties, in the same was as for `Dataset` itself.\n",
    "The variable holding the data of the dataset item is accessible via the `data` property:"
   ]
  },
  {
   "cell_type": "code",
   "execution_count": null,
   "metadata": {},
   "outputs": [],
   "source": [
    "d['a'].data"
   ]
  },
  {
   "cell_type": "markdown",
   "metadata": {},
   "source": [
    "For convenience, properties of the data variable are also properties of the data item:"
   ]
  },
  {
   "cell_type": "code",
   "execution_count": null,
   "metadata": {},
   "outputs": [],
   "source": [
    "d['a'].values"
   ]
  },
  {
   "cell_type": "code",
   "execution_count": null,
   "metadata": {},
   "outputs": [],
   "source": [
    "d['a'].variances"
   ]
  },
  {
   "cell_type": "code",
   "execution_count": null,
   "metadata": {},
   "outputs": [],
   "source": [
    "d['a'].unit"
   ]
  },
  {
   "cell_type": "markdown",
   "metadata": {},
   "source": [
    "Coordinates, labels, and attributes of a data item include only those that are relevant to the item's dimensions, all others are hidden.\n",
    "For example, when accessing `'b'`, which does not depend on the `'y'` dimension, the coord for `'y'` as well as the `'aux'` labels are not part of the items `coords` and `labels`, respectively:"
   ]
  },
  {
   "cell_type": "code",
   "execution_count": null,
   "metadata": {},
   "outputs": [],
   "source": [
    "sc.show(d['b'])"
   ]
  },
  {
   "cell_type": "markdown",
   "metadata": {},
   "source": [
    "Similarely, when accessing a 0-dimensional data item, it will have no coordinates or labels:"
   ]
  },
  {
   "cell_type": "code",
   "execution_count": null,
   "metadata": {},
   "outputs": [],
   "source": [
    "sc.show(d['c'])"
   ]
  },
  {
   "cell_type": "markdown",
   "metadata": {},
   "source": [
    "All variables in a dataset must have consistent dimensions.\n",
    "Thanks to labeled dimensions transposed data is supported:"
   ]
  },
  {
   "cell_type": "code",
   "execution_count": null,
   "metadata": {},
   "outputs": [],
   "source": [
    "d['d'] = sc.Variable(dims=['y', 'x'], values=np.random.rand(3, 2))\n",
    "sc.show(d)\n",
    "d"
   ]
  },
  {
   "cell_type": "markdown",
   "metadata": {},
   "source": [
    "The usual `dict`-like methods are available for `Dataset`:"
   ]
  },
  {
   "cell_type": "code",
   "execution_count": null,
   "metadata": {},
   "outputs": [],
   "source": [
    "for name in d:\n",
    "    print(name)"
   ]
  },
  {
   "cell_type": "code",
   "execution_count": null,
   "metadata": {},
   "outputs": [],
   "source": [
    "'a' in d"
   ]
  },
  {
   "cell_type": "code",
   "execution_count": null,
   "metadata": {
    "scrolled": true
   },
   "outputs": [],
   "source": [
    "'e' in d"
   ]
  }
 ],
 "metadata": {
  "kernelspec": {
   "display_name": "Python 3",
   "language": "python",
   "name": "python3"
  },
  "language_info": {
   "codemirror_mode": {
    "name": "ipython",
    "version": 3
   },
   "file_extension": ".py",
   "mimetype": "text/x-python",
   "name": "python",
   "nbconvert_exporter": "python",
   "pygments_lexer": "ipython3",
   "version": "3.7.4"
  }
 },
 "nbformat": 4,
 "nbformat_minor": 2
}
