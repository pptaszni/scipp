{
 "cells": [
  {
   "cell_type": "markdown",
   "metadata": {},
   "source": [
    "# Sparse data\n",
    "\n",
    "Scipp can handle a certain type of sparse data, i.e., data that cannot directly be represented as a multi-dimensional array.\n",
    "For applications that rely solely on dense arrays of data this section can safely be ignored.\n",
    "\n",
    "Scipp supports sparse data in shape of a multi-dimensional array of lists.\n",
    "This could, e.g., be used to store data from an array of sensors/detectors that are read out independently, with potentially widely varying frequency.\n",
    "\n",
    "If data has a sparse dimension it is always the innermost dimension of a variable.\n",
    "Since here we are not dealing with a dense array we cannot set values for all `x` from a numpy array.\n",
    "The recommended approach is to slice out all outer dimensions.\n",
    "Then the remaining values (for a particluar \"x\" in this case) are a dense array with a list-like interface.\n",
    "Initially all lists are empty:"
   ]
  },
  {
   "cell_type": "code",
   "execution_count": null,
   "metadata": {},
   "outputs": [],
   "source": [
    "import numpy as np\n",
    "import scipp as sc\n",
    "\n",
    "var = sc.Variable(dims=['x', 'y'],\n",
    "                  shape=[4, sc.Dimensions.Sparse])\n",
    "sc.show(var)\n",
    "var"
   ]
  },
  {
   "cell_type": "code",
   "execution_count": null,
   "metadata": {},
   "outputs": [],
   "source": [
    "var['x', 0].values = np.arange(3)\n",
    "var['x', 1].values.append(42)\n",
    "var['x', 0].values.extend(np.ones(3))\n",
    "var['x', 3].values = np.ones(6)\n",
    "sc.show(var)\n",
    "var"
   ]
  },
  {
   "cell_type": "code",
   "execution_count": null,
   "metadata": {},
   "outputs": [],
   "source": [
    "var['x', 0].values"
   ]
  },
  {
   "cell_type": "code",
   "execution_count": null,
   "metadata": {},
   "outputs": [],
   "source": [
    "var['x', 1].values"
   ]
  },
  {
   "cell_type": "code",
   "execution_count": null,
   "metadata": {},
   "outputs": [],
   "source": [
    "var['x', 2].values"
   ]
  },
  {
   "cell_type": "markdown",
   "metadata": {},
   "source": [
    "Operations such as slicing the sparse dimension are ill-defined and are not supported:"
   ]
  },
  {
   "cell_type": "code",
   "execution_count": null,
   "metadata": {},
   "outputs": [],
   "source": [
    "try:\n",
    "    var['y', 0]\n",
    "except Exception as e:\n",
    "    print(str(e))"
   ]
  },
  {
   "cell_type": "markdown",
   "metadata": {},
   "source": [
    "Operations between variables or datasets broadcast dense data into sparse dimensions:"
   ]
  },
  {
   "cell_type": "code",
   "execution_count": null,
   "metadata": {},
   "outputs": [],
   "source": [
    "scale = sc.Variable(dims=['x'], values=np.arange(2.0, 6))\n",
    "var *= scale\n",
    "var['x', 0].values"
   ]
  },
  {
   "cell_type": "code",
   "execution_count": null,
   "metadata": {},
   "outputs": [],
   "source": [
    "var['x', 1].values"
   ]
  },
  {
   "cell_type": "code",
   "execution_count": null,
   "metadata": {},
   "outputs": [],
   "source": [
    "var['x', 2].values"
   ]
  },
  {
   "cell_type": "markdown",
   "metadata": {},
   "source": [
    "Sparse data in a dataset can be associated with a corresponding sparse coordinate and sparse labels.\n",
    "These are specific to a particular data item:"
   ]
  },
  {
   "cell_type": "code",
   "execution_count": null,
   "metadata": {},
   "outputs": [],
   "source": [
    "d = sc.Dataset(\n",
    "        {'dense': sc.Variable(['x', 'y'], values=np.ones(shape=(4, 3)))},\n",
    "         coords={\n",
    "             'x': sc.Variable(['x'], values=np.arange(4.0)),\n",
    "             'y': sc.Variable(['y'], values=np.arange(3.0))})\n",
    "d['a'] = sc.DataArray(data=var, coords={'y': var})\n",
    "var['x', 0].values = np.arange(7)\n",
    "var['x', 3].values = np.ones(2)\n",
    "d['b'] = sc.DataArray(coords={'y': var})\n",
    "sc.show(d)\n",
    "d"
   ]
  },
  {
   "cell_type": "markdown",
   "metadata": {},
   "source": [
    "The sparse coord shadows the global coordinate when accessed via the `coords` property of a data item, compare accessing a dense item:"
   ]
  },
  {
   "cell_type": "code",
   "execution_count": null,
   "metadata": {
    "scrolled": false
   },
   "outputs": [],
   "source": [
    "sc.show(d['dense'])"
   ]
  },
  {
   "cell_type": "markdown",
   "metadata": {},
   "source": [
    "with"
   ]
  },
  {
   "cell_type": "code",
   "execution_count": null,
   "metadata": {
    "scrolled": true
   },
   "outputs": [],
   "source": [
    "sc.show(d['a'])"
   ]
  },
  {
   "cell_type": "code",
   "execution_count": null,
   "metadata": {},
   "outputs": [],
   "source": [
    "d.coords['y']"
   ]
  },
  {
   "cell_type": "code",
   "execution_count": null,
   "metadata": {},
   "outputs": [],
   "source": [
    "d['a'].coords['y']"
   ]
  },
  {
   "cell_type": "code",
   "execution_count": null,
   "metadata": {},
   "outputs": [],
   "source": [
    "try:\n",
    "  d['b'].coords['y']\n",
    "except IndexError:\n",
    "  print('Dense coord is meaningless for sparse data, so it is also hidden')"
   ]
  },
  {
   "cell_type": "markdown",
   "metadata": {},
   "source": [
    "The lengths of the sublists between coordinate and values (and variances) must match.\n",
    "Scipp does not enforce this when modifying sublists, but *does* verify correctness in operations on variables or dataset."
   ]
  }
 ],
 "metadata": {
  "kernelspec": {
   "display_name": "Python 3",
   "language": "python",
   "name": "python3"
  },
  "language_info": {
   "codemirror_mode": {
    "name": "ipython",
    "version": 3
   },
   "file_extension": ".py",
   "mimetype": "text/x-python",
   "name": "python",
   "nbconvert_exporter": "python",
   "pygments_lexer": "ipython3",
   "version": "3.7.4"
  }
 },
 "nbformat": 4,
 "nbformat_minor": 2
}
